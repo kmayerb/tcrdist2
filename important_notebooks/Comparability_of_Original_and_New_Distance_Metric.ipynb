{
 "cells": [
  {
   "cell_type": "code",
   "execution_count": 1,
   "metadata": {},
   "outputs": [],
   "source": [
    "import pandas as pd\n",
    "import numpy as np\n",
    "import pickle\n",
    "import tcrdist as td\n",
    "from tcrdist import tcr_distances\n",
    "from tcrdist import mappers\n",
    "from tcrdist import objects\n",
    "from tcrdist.repertoire import TCRrep"
   ]
  },
  {
   "cell_type": "markdown",
   "metadata": {},
   "source": [
    "### Examine the Comparability of the Original tcr-dist Distance Metric and the tcrdist2 Legacy Metric"
   ]
  },
  {
   "cell_type": "markdown",
   "metadata": {},
   "source": [
    "The `tcrdist_metric_align_cdr3s_false` function is not used here, but is included in case on were to want to testing the consequence of setting params.align_cdr3s to True\n",
    "and compute_pairwise_all metric arg is set to 'custom'. In that case we se that the result produced by tcrdist2 will differ from the original tcr-dist results. This implies that align_cdr3s was set to FALSE in the legacy implementation."
   ]
  },
  {
   "cell_type": "code",
   "execution_count": 2,
   "metadata": {},
   "outputs": [],
   "source": [
    "def tcrdist_metric_align_cdr3s_false(s1,s2, **kwargs):\n",
    "    params = td.objects.DistanceParams()\n",
    "    params.align_cdr3s = False\n",
    "    dist = tcr_distances.weighted_cdr3_distance(s1, s2, params)\n",
    "    return(int(dist))"
   ]
  },
  {
   "cell_type": "markdown",
   "metadata": {},
   "source": [
    "Here we run the legacy configuration in tcrdist2 on all mouse sequences. Unfortunately the clone names are not the same in our procedure so the results will have to be compared based on a join on input features."
   ]
  },
  {
   "cell_type": "code",
   "execution_count": 3,
   "metadata": {},
   "outputs": [
    {
     "name": "stderr",
     "output_type": "stream",
     "text": [
      "/Users/kmayerbl/PycharmProjects/tcrdist2/tcrdist2to3/tcrdist/repertoire.py:149: UserWarning: nan gene was not recognized in reference db no cdr seq could be inferred\n",
      "  warnings.warn(\"{} gene was not recognized in reference db no cdr seq could be inferred\".format(gene))\n"
     ]
    },
    {
     "data": {
      "text/plain": [
       "{'paired_tcrdist': array([[  0., 253., 253., ..., 279., 256., 237.],\n",
       "        [253.,   0., 156., ..., 253., 202., 150.],\n",
       "        [253., 156.,   0., ..., 189., 207., 195.],\n",
       "        ...,\n",
       "        [279., 253., 189., ...,   0., 167., 163.],\n",
       "        [256., 202., 207., ..., 167.,   0.,  82.],\n",
       "        [237., 150., 195., ..., 163.,  82.,   0.]]),\n",
       " 'paired_tcrdist_weights': {'cdr1_a_aa_pw': 1,\n",
       "  'cdr2_a_aa_pw': 1,\n",
       "  'cdr3_a_aa_pw': 1,\n",
       "  'pmhc_a_aa_pw': 1,\n",
       "  'cdr1_b_aa_pw': 1,\n",
       "  'cdr2_b_aa_pw': 1,\n",
       "  'cdr3_b_aa_pw': 1,\n",
       "  'pmhc_b_aa_pw': 1}}"
      ]
     },
     "execution_count": 3,
     "metadata": {},
     "output_type": "execute_result"
    }
   ],
   "source": [
    "pd_df = pd.read_csv(\"vdjDB_PMID28636592.tsv\", sep = \"\\t\")       # 1\n",
    "t_df = td.mappers.vdjdb_to_tcrdist2(pd_df = pd_df)              # 2\n",
    "t_df.organism.value_counts                                      # 3\n",
    "index_mus = t_df.organism == \"MusMusculus\"                      # 4\n",
    "#index_mus[:275] = False\n",
    "#index_mus[287:] = False\n",
    "t_df_mus = t_df.loc[index_mus,:].copy()                          # 5\n",
    "tr2 = TCRrep(cell_df = t_df_mus, organism = \"mouse\")             # 6\n",
    "tr2.infer_cdrs_from_v_gene(chain = 'alpha', imgt_aligned = True) # <------- # 7\n",
    "tr2.infer_cdrs_from_v_gene(chain = 'beta',  imgt_aligned = True) # <------- # 8\n",
    "tr2.index_cols =['epitope',                                      # 9 \n",
    "                'subject',\n",
    "                'cdr3_a_aa',\n",
    "                'cdr1_a_aa',\n",
    "                'cdr2_a_aa',\n",
    "                'pmhc_a_aa',\n",
    "                'cdr3_b_aa',\n",
    "                'cdr1_b_aa',\n",
    "                'cdr2_b_aa',\n",
    "                'pmhc_b_aa',\n",
    "                'v_a_gene',\n",
    "                'v_b_gene']\n",
    "tr2.deduplicate()                                                # 10\n",
    "tr2.compute_pairwise_all(chain = \"alpha\",                        # <------- 11\n",
    "                         metric = 'custom',\n",
    "                         compute_specific_region = 'cdr3_a_aa',\n",
    "                         user_function = tcrdist_metric_align_cdr3s_false,\n",
    "                         processes = 6)\n",
    "tr2.compute_pairwise_all(chain = \"alpha\",                        # 11\n",
    "                         metric = \"tcrdist_cdr1\",\n",
    "                         compute_specific_region = 'cdr1_a_aa',\n",
    "                         processes = 6)\n",
    "tr2.compute_pairwise_all(chain = \"alpha\",                        # 11\n",
    "                         metric = \"tcrdist_cdr1\",\n",
    "                         compute_specific_region = 'cdr2_a_aa',\n",
    "                         processes = 6)\n",
    "tr2.compute_pairwise_all(chain = \"alpha\",                        # 11\n",
    "                         metric = \"tcrdist_cdr1\",\n",
    "                         compute_specific_region = 'pmhc_a_aa',\n",
    "                         processes = 6)\n",
    "\n",
    "tr2.compute_pairwise_all(chain = \"beta\",                         # 12 \n",
    "                         metric = \"custom\",\n",
    "                         user_function = tcrdist_metric_align_cdr3s_false,\n",
    "                         compute_specific_region = 'cdr3_b_aa',\n",
    "                         processes = 6)\n",
    "tr2.compute_pairwise_all(chain = \"beta\",                         # 12\n",
    "                         metric = \"tcrdist_cdr1\",\n",
    "                         compute_specific_region = 'cdr1_b_aa',\n",
    "                         processes = 6)\n",
    "tr2.compute_pairwise_all(chain = \"beta\",                         # 12\n",
    "                         metric = \"tcrdist_cdr1\",\n",
    "                         compute_specific_region = 'cdr2_b_aa',\n",
    "                         processes = 6)\n",
    "tr2.compute_pairwise_all(chain = \"beta\",                         # 12\n",
    "                         metric = \"tcrdist_cdr1\",\n",
    "                         compute_specific_region = 'pmhc_b_aa',\n",
    "                         processes = 6)\n",
    "\n",
    "tr2.compute_paired_tcrdist()"
   ]
  },
  {
   "cell_type": "markdown",
   "metadata": {},
   "source": [
    "#### Comparison\n",
    "legacy results were obtained via: \n",
    "\n",
    "```bash\n",
    "python compute_distances.py --clones_file  mouse_pairseqs_v1_parsed_seqs_probs_mq20_clones.tsv --organism mouse\n",
    "\n",
    "```\n",
    "\n",
    "`ref_clones` contains the input and information about input seqs\n",
    "\n",
    "`ref_clones_info` is subset of `ref_clones` containing columns with the relevant features\n",
    "\n",
    "`tr1_info` is input to the tcrdist2 containing columns wiht relevant input features\n",
    "\n",
    "We merge `ref_clones_info` and `tr1_info` via a left join to produce a linkage between clone_id in the old dataset and tcrdist2_index in the new dataset that will correspond to `new_distances` --  the distances yielded by tcrdist2\n",
    "\n"
   ]
  },
  {
   "cell_type": "code",
   "execution_count": 4,
   "metadata": {},
   "outputs": [],
   "source": [
    "ref_clones = pd.read_csv(\"mouse_pairseqs_v1_parsed_seqs_probs_mq20_clones.tsv\", sep = \"\\t\")"
   ]
  },
  {
   "cell_type": "markdown",
   "metadata": {},
   "source": [
    "Open a trdist"
   ]
  },
  {
   "cell_type": "code",
   "execution_count": 5,
   "metadata": {},
   "outputs": [],
   "source": [
    "#tr1 = pickle.load(open(\"tr1_2.pickle\", 'rb'))\n",
    "tr1 = tr2\n",
    "new_distances = tr1.paired_tcrdist.copy()"
   ]
  },
  {
   "cell_type": "markdown",
   "metadata": {},
   "source": [
    "Combine Data That Has the Same Input"
   ]
  },
  {
   "cell_type": "code",
   "execution_count": 240,
   "metadata": {},
   "outputs": [
    {
     "data": {
      "text/html": [
       "<div>\n",
       "<style scoped>\n",
       "    .dataframe tbody tr th:only-of-type {\n",
       "        vertical-align: middle;\n",
       "    }\n",
       "\n",
       "    .dataframe tbody tr th {\n",
       "        vertical-align: top;\n",
       "    }\n",
       "\n",
       "    .dataframe thead th {\n",
       "        text-align: right;\n",
       "    }\n",
       "</style>\n",
       "<table border=\"1\" class=\"dataframe\">\n",
       "  <thead>\n",
       "    <tr style=\"text-align: right;\">\n",
       "      <th></th>\n",
       "      <th>clone_id</th>\n",
       "      <th>tcrdist2_index</th>\n",
       "    </tr>\n",
       "  </thead>\n",
       "  <tbody>\n",
       "    <tr>\n",
       "      <th>8</th>\n",
       "      <td>mouse_tcr0253.clone</td>\n",
       "      <td>1151.0</td>\n",
       "    </tr>\n",
       "    <tr>\n",
       "      <th>9</th>\n",
       "      <td>mouse_tcr0102.clone</td>\n",
       "      <td>1149.0</td>\n",
       "    </tr>\n",
       "    <tr>\n",
       "      <th>13</th>\n",
       "      <td>mouse_tcr0369.clone</td>\n",
       "      <td>1165.0</td>\n",
       "    </tr>\n",
       "    <tr>\n",
       "      <th>15</th>\n",
       "      <td>mouse_tcr0240.clone</td>\n",
       "      <td>1167.0</td>\n",
       "    </tr>\n",
       "    <tr>\n",
       "      <th>17</th>\n",
       "      <td>mouse_tcr0143.clone</td>\n",
       "      <td>1168.0</td>\n",
       "    </tr>\n",
       "  </tbody>\n",
       "</table>\n",
       "</div>"
      ],
      "text/plain": [
       "               clone_id  tcrdist2_index\n",
       "8   mouse_tcr0253.clone          1151.0\n",
       "9   mouse_tcr0102.clone          1149.0\n",
       "13  mouse_tcr0369.clone          1165.0\n",
       "15  mouse_tcr0240.clone          1167.0\n",
       "17  mouse_tcr0143.clone          1168.0"
      ]
     },
     "execution_count": 240,
     "metadata": {},
     "output_type": "execute_result"
    }
   ],
   "source": [
    "tr1_info = tr1.clone_df[['subject', 'epitope','cdr3_a_aa', 'cdr3_b_aa', 'v_a_gene', 'v_b_gene']].copy()\n",
    "tr1_info['tcrdist2_index'] = tr1_info.index\n",
    "ref_clones_info = ref_clones[['clone_id', 'subject','epitope', 'cdr3a', 'cdr3b','va_rep', 'vb_rep','va_genes', 'vb_genes']].copy()\n",
    "merged_info = pd.merge(left = ref_clones_info, \n",
    "                       right = tr1_info, \n",
    "                       how = \"left\", \n",
    "                       left_on = ['subject','epitope', 'cdr3a', 'cdr3b','va_rep', 'vb_rep'], \n",
    "                       right_on = ['subject', 'epitope','cdr3_a_aa', 'cdr3_b_aa', 'v_a_gene', 'v_b_gene'])\n",
    "ind = merged_info.tcrdist2_index.isna() == False\n",
    "merged_info.loc[ind,:][['clone_id','tcrdist2_index']].head()"
   ]
  },
  {
   "cell_type": "markdown",
   "metadata": {},
   "source": [
    "Suppose we look at this comparison, will all the distances be the same. The answer is no, because the legacy method accounts or multiple possible v-genes and selects the minimum distance."
   ]
  },
  {
   "cell_type": "code",
   "execution_count": 259,
   "metadata": {},
   "outputs": [
    {
     "name": "stdout",
     "output_type": "stream",
     "text": [
      "0.854149490237085\n"
     ]
    },
    {
     "data": {
      "text/plain": [
       "<matplotlib.colorbar.Colorbar at 0x1a35c7d4a8>"
      ]
     },
     "execution_count": 259,
     "metadata": {},
     "output_type": "execute_result"
    },
    {
     "data": {
      "image/png": "[encoded data removed]",
      "text/plain": [
       "<Figure size 1008x1008 with 2 Axes>"
      ]
     },
     "metadata": {
      "needs_background": "light"
     },
     "output_type": "display_data"
    }
   ],
   "source": [
    "# mi - merged info where a tcrdist2_index value is present (i.e. tcrdist2_index.isna() == False)\n",
    "mi = merged_info.loc[ind,:].copy()\n",
    "# clones is a list of mouse_tcr0253.clone, mouse_tcr0102.clone\t\n",
    "clones = mi['clone_id']\n",
    "# load reference distances from legacy program\n",
    "ref_distances = pd.read_csv(\"mouse_pairseqs_v1_parsed_seqs_probs_mq20_clones_AB.dist\", sep = \" \", header = None)\n",
    "# use the first colums (mouse_tcr0253.clone, mouse_tcr0102.clone, ...) as an index \n",
    "ref_distances.index = ref_distances.iloc[:,0]\n",
    "# reset the colums names to be clone and then (mouse_tcr0253.clone, mouse_tcr0102.clone, ...)\n",
    "ref_distances.columns = [\"clone\"] + ref_distances.index.to_list()\n",
    "# Now we need the tcrdist2 index positions\n",
    "tcrdist_index = mi['tcrdist2_index']\n",
    "# Use these to get the correct rows and columns from the PW matrix\n",
    "tcrdist_distances = pd.DataFrame(tr1.paired_tcrdist).loc[tcrdist_index, tcrdist_index]\n",
    "# assert that we have matching sized matrices\n",
    "assert(tcrdist_distances.shape == ref_distances.loc[clones,clones].shape)\n",
    "# r_mat will be the reference_matrix, t_mat the tcrdist2 matrix\n",
    "r_mat = ref_distances.loc[clones,clones].values\n",
    "t_mat = pd.DataFrame(tr1.paired_tcrdist).loc[tcrdist_index, tcrdist_index].values\n",
    "# print the % of cells in agreement\n",
    "print(np.sum(r_mat == t_mat) / np.size(r_mat))\n",
    "# make a matrix of differences\n",
    "method_diff = r_mat - t_mat\n",
    "# make a boolean matrix of agreement\n",
    "ag = r_mat == t_mat\n",
    "# Plot the differences\n",
    "import matplotlib\n",
    "import matplotlib.pyplot as plt\n",
    "plt.matshow(method_diff)\n",
    "plt.colorbar()"
   ]
  },
  {
   "cell_type": "markdown",
   "metadata": {},
   "source": [
    "We do the same as above but we limit the comparison to only thos seqeuences that had a single Va and Vb gene in the input see the lines wiht `#<----------`"
   ]
  },
  {
   "cell_type": "code",
   "execution_count": 263,
   "metadata": {},
   "outputs": [
    {
     "name": "stdout",
     "output_type": "stream",
     "text": [
      "1.0\n"
     ]
    },
    {
     "data": {
      "text/plain": [
       "<matplotlib.colorbar.Colorbar at 0x1a36832438>"
      ]
     },
     "execution_count": 263,
     "metadata": {},
     "output_type": "execute_result"
    },
    {
     "data": {
      "image/png": "[encoded data removed]",
      "text/plain": [
       "<Figure size 1008x1008 with 2 Axes>"
      ]
     },
     "metadata": {
      "needs_background": "light"
     },
     "output_type": "display_data"
    }
   ],
   "source": [
    "# I NEED TO LOOK ONLY AT THOSE WITH A SINGLE Va and Vb prediction\n",
    "# mi - merged info where a tcrdist2_index value is present (i.e. tcrdist2_index.isna() == False)\n",
    "mi = merged_info.loc[ind,:].copy()\n",
    "\n",
    "# I NEED TO LOOK ONLY AT THOSE WITH A SINGLE Va and Vb prediction\n",
    "mi = merged_info.loc[ind,:].copy()\n",
    "ind_va = mi.va_genes.str.find(\";\") == -1     #<---------- only single v_a genes\n",
    "ind_vb = mi.vb_genes.str.find(\";\") == -1     #<---------- only single v_b gene\n",
    "clones = mi.loc[ind_va&ind_vb,:]['clone_id'] #<---------- clones defined\n",
    "# clones is a list of mouse_tcr0253.clone, mouse_tcr0102.clone\t\n",
    "\n",
    "# load reference distances from legacy program\n",
    "ref_distances = pd.read_csv(\"mouse_pairseqs_v1_parsed_seqs_probs_mq20_clones_AB.dist\", sep = \" \", header = None)\n",
    "# use the first colums (mouse_tcr0253.clone, mouse_tcr0102.clone, ...) as an index \n",
    "ref_distances.index = ref_distances.iloc[:,0]\n",
    "# reset the colums names to be clone and then (mouse_tcr0253.clone, mouse_tcr0102.clone, ...)\n",
    "ref_distances.columns = [\"clone\"] + ref_distances.index.to_list()\n",
    "\n",
    "# Now we need the tcrdist2 index positions\n",
    "tcrdist_index = mi.loc[ind_va&ind_vb,:]['tcrdist2_index'] # <----------- we use ind_va, ind_vb here\n",
    "\n",
    "# Use these to get the correct rows and columns from the PW matrix\n",
    "tcrdist_distances = pd.DataFrame(tr1.paired_tcrdist).loc[tcrdist_index, tcrdist_index]\n",
    "# assert that we have matching sized matrices\n",
    "assert(tcrdist_distances.shape == ref_distances.loc[clones,clones].shape)\n",
    "# r_mat will be the reference_matrix, t_mat the tcrdist2 matrix\n",
    "r_mat = ref_distances.loc[clones,clones].values\n",
    "t_mat = pd.DataFrame(tr1.paired_tcrdist).loc[tcrdist_index, tcrdist_index].values\n",
    "# print the % of cells in agreement\n",
    "print(np.sum(r_mat == t_mat) / np.size(r_mat))\n",
    "# make a matrix of differences\n",
    "method_diff = r_mat - t_mat\n",
    "# make a boolean matrix of agreement\n",
    "ag = r_mat == t_mat\n",
    "# Plot the differences\n",
    "import matplotlib\n",
    "import matplotlib.pyplot as plt\n",
    "plt.matshow(method_diff)\n",
    "plt.colorbar()"
   ]
  },
  {
   "cell_type": "markdown",
   "metadata": {},
   "source": [
    "#### Designing the Test \n",
    "For a formal test let's create an input `test_df` for tcrdist2 and compare it with the `truth_matrix` composed of the reference values from the legacy implementation. This is now in tcrdist2 tests/test_comparabilit_of_tcrdist.py\n"
   ]
  },
  {
   "cell_type": "code",
   "execution_count": 264,
   "metadata": {},
   "outputs": [
    {
     "data": {
      "text/html": [
       "<div>\n",
       "<style scoped>\n",
       "    .dataframe tbody tr th:only-of-type {\n",
       "        vertical-align: middle;\n",
       "    }\n",
       "\n",
       "    .dataframe tbody tr th {\n",
       "        vertical-align: top;\n",
       "    }\n",
       "\n",
       "    .dataframe thead th {\n",
       "        text-align: right;\n",
       "    }\n",
       "</style>\n",
       "<table border=\"1\" class=\"dataframe\">\n",
       "  <thead>\n",
       "    <tr style=\"text-align: right;\">\n",
       "      <th></th>\n",
       "      <th>clone_id</th>\n",
       "      <th>subject</th>\n",
       "      <th>epitope</th>\n",
       "      <th>cdr3a</th>\n",
       "      <th>cdr3b</th>\n",
       "      <th>cdr3_a_aa</th>\n",
       "      <th>cdr3_b_aa</th>\n",
       "      <th>v_a_gene</th>\n",
       "      <th>v_b_gene</th>\n",
       "      <th>va_rep</th>\n",
       "      <th>vb_rep</th>\n",
       "      <th>va_genes</th>\n",
       "      <th>vb_genes</th>\n",
       "      <th>count</th>\n",
       "    </tr>\n",
       "  </thead>\n",
       "  <tbody>\n",
       "    <tr>\n",
       "      <th>13</th>\n",
       "      <td>mouse_tcr0369.clone</td>\n",
       "      <td>mouse_subject0050</td>\n",
       "      <td>PA</td>\n",
       "      <td>CSASKDTNTGKLTF</td>\n",
       "      <td>CASSIARWDSYEQYF</td>\n",
       "      <td>CSASKDTNTGKLTF</td>\n",
       "      <td>CASSIARWDSYEQYF</td>\n",
       "      <td>TRAV5-1*01</td>\n",
       "      <td>TRBV19*01</td>\n",
       "      <td>TRAV5-1*01</td>\n",
       "      <td>TRBV19*01</td>\n",
       "      <td>TRAV5-1*01</td>\n",
       "      <td>TRBV19*01</td>\n",
       "      <td>1</td>\n",
       "    </tr>\n",
       "    <tr>\n",
       "      <th>25</th>\n",
       "      <td>mouse_tcr0329.clone</td>\n",
       "      <td>mouse_subject0050</td>\n",
       "      <td>PA</td>\n",
       "      <td>CILVGGSNYKLTF</td>\n",
       "      <td>CASSSGREVFF</td>\n",
       "      <td>CILVGGSNYKLTF</td>\n",
       "      <td>CASSSGREVFF</td>\n",
       "      <td>TRAV21/DV12*01</td>\n",
       "      <td>TRBV29*01</td>\n",
       "      <td>TRAV21/DV12*01</td>\n",
       "      <td>TRBV29*01</td>\n",
       "      <td>TRAV21/DV12*02</td>\n",
       "      <td>TRBV29*01</td>\n",
       "      <td>1</td>\n",
       "    </tr>\n",
       "    <tr>\n",
       "      <th>28</th>\n",
       "      <td>mouse_tcr0020.clone</td>\n",
       "      <td>mouse_subject0050</td>\n",
       "      <td>PA</td>\n",
       "      <td>CILRVGATGGNNKLTF</td>\n",
       "      <td>CASSLDRGEVFF</td>\n",
       "      <td>CILRVGATGGNNKLTF</td>\n",
       "      <td>CASSLDRGEVFF</td>\n",
       "      <td>TRAV21/DV12*01</td>\n",
       "      <td>TRBV29*01</td>\n",
       "      <td>TRAV21/DV12*01</td>\n",
       "      <td>TRBV29*01</td>\n",
       "      <td>TRAV21/DV12*02</td>\n",
       "      <td>TRBV29*01</td>\n",
       "      <td>1</td>\n",
       "    </tr>\n",
       "    <tr>\n",
       "      <th>39</th>\n",
       "      <td>mouse_tcr0832.clone</td>\n",
       "      <td>mouse_subject0064</td>\n",
       "      <td>m139</td>\n",
       "      <td>CAASENYNQGKLIF</td>\n",
       "      <td>CASSWDRNTGQLYF</td>\n",
       "      <td>CAASENYNQGKLIF</td>\n",
       "      <td>CASSWDRNTGQLYF</td>\n",
       "      <td>TRAV7-4*01</td>\n",
       "      <td>TRBV26*01</td>\n",
       "      <td>TRAV7-4*01</td>\n",
       "      <td>TRBV26*01</td>\n",
       "      <td>TRAV7-4*01</td>\n",
       "      <td>TRBV26*01</td>\n",
       "      <td>1</td>\n",
       "    </tr>\n",
       "    <tr>\n",
       "      <th>55</th>\n",
       "      <td>mouse_tcr1720.clone</td>\n",
       "      <td>mouse_subject0073</td>\n",
       "      <td>M38</td>\n",
       "      <td>CAVSSYGSSGNKLIF</td>\n",
       "      <td>CTCSAGTGGFNYAEQFF</td>\n",
       "      <td>CAVSSYGSSGNKLIF</td>\n",
       "      <td>CTCSAGTGGFNYAEQFF</td>\n",
       "      <td>TRAV9N-3*01</td>\n",
       "      <td>TRBV1*01</td>\n",
       "      <td>TRAV9N-3*01</td>\n",
       "      <td>TRBV1*01</td>\n",
       "      <td>TRAV9N-3*01</td>\n",
       "      <td>TRBV1*01</td>\n",
       "      <td>1</td>\n",
       "    </tr>\n",
       "  </tbody>\n",
       "</table>\n",
       "</div>"
      ],
      "text/plain": [
       "               clone_id            subject epitope             cdr3a  \\\n",
       "13  mouse_tcr0369.clone  mouse_subject0050      PA    CSASKDTNTGKLTF   \n",
       "25  mouse_tcr0329.clone  mouse_subject0050      PA     CILVGGSNYKLTF   \n",
       "28  mouse_tcr0020.clone  mouse_subject0050      PA  CILRVGATGGNNKLTF   \n",
       "39  mouse_tcr0832.clone  mouse_subject0064    m139    CAASENYNQGKLIF   \n",
       "55  mouse_tcr1720.clone  mouse_subject0073     M38   CAVSSYGSSGNKLIF   \n",
       "\n",
       "                cdr3b         cdr3_a_aa          cdr3_b_aa        v_a_gene  \\\n",
       "13    CASSIARWDSYEQYF    CSASKDTNTGKLTF    CASSIARWDSYEQYF      TRAV5-1*01   \n",
       "25        CASSSGREVFF     CILVGGSNYKLTF        CASSSGREVFF  TRAV21/DV12*01   \n",
       "28       CASSLDRGEVFF  CILRVGATGGNNKLTF       CASSLDRGEVFF  TRAV21/DV12*01   \n",
       "39     CASSWDRNTGQLYF    CAASENYNQGKLIF     CASSWDRNTGQLYF      TRAV7-4*01   \n",
       "55  CTCSAGTGGFNYAEQFF   CAVSSYGSSGNKLIF  CTCSAGTGGFNYAEQFF     TRAV9N-3*01   \n",
       "\n",
       "     v_b_gene          va_rep     vb_rep        va_genes   vb_genes  count  \n",
       "13  TRBV19*01      TRAV5-1*01  TRBV19*01      TRAV5-1*01  TRBV19*01      1  \n",
       "25  TRBV29*01  TRAV21/DV12*01  TRBV29*01  TRAV21/DV12*02  TRBV29*01      1  \n",
       "28  TRBV29*01  TRAV21/DV12*01  TRBV29*01  TRAV21/DV12*02  TRBV29*01      1  \n",
       "39  TRBV26*01      TRAV7-4*01  TRBV26*01      TRAV7-4*01  TRBV26*01      1  \n",
       "55   TRBV1*01     TRAV9N-3*01   TRBV1*01     TRAV9N-3*01   TRBV1*01      1  "
      ]
     },
     "execution_count": 264,
     "metadata": {},
     "output_type": "execute_result"
    }
   ],
   "source": [
    "mi = merged_info.loc[ind,:].copy()\n",
    "mi.loc[ind_va&ind_vb,:]\n",
    "test_df = mi.loc[ind_va&ind_vb,:][['clone_id','subject','epitope','cdr3a','cdr3b', 'cdr3_a_aa','cdr3_b_aa', 'v_a_gene', 'v_b_gene', 'va_rep', 'vb_rep','va_genes', 'vb_genes']].copy()\n",
    "test_df['count'] = 1\n",
    "test_df.head()"
   ]
  },
  {
   "cell_type": "code",
   "execution_count": 266,
   "metadata": {},
   "outputs": [
    {
     "data": {
      "text/plain": [
       "array([[  0., 286., 307., ..., 296., 279., 207.],\n",
       "       [286.,   0., 132., ..., 300., 264., 290.],\n",
       "       [307., 132.,   0., ..., 333., 288., 299.],\n",
       "       ...,\n",
       "       [296., 300., 333., ...,   0., 275., 287.],\n",
       "       [279., 264., 288., ..., 275.,   0., 251.],\n",
       "       [207., 290., 299., ..., 287., 251.,   0.]])"
      ]
     },
     "execution_count": 266,
     "metadata": {},
     "output_type": "execute_result"
    }
   ],
   "source": [
    "clones = mi.loc[ind_va&ind_vb,:]['clone_id']\n",
    "truth_matrix = ref_distances.loc[clones,clones].values\n",
    "truth_matrix"
   ]
  },
  {
   "cell_type": "code",
   "execution_count": 267,
   "metadata": {},
   "outputs": [
    {
     "data": {
      "text/plain": [
       "{'paired_tcrdist': array([[  0., 292., 288., ..., 288., 230., 293.],\n",
       "        [292.,   0., 275., ..., 291., 251., 220.],\n",
       "        [288., 275.,   0., ..., 240., 310., 299.],\n",
       "        ...,\n",
       "        [288., 291., 240., ...,   0., 263., 266.],\n",
       "        [230., 251., 310., ..., 263.,   0., 303.],\n",
       "        [293., 220., 299., ..., 266., 303.,   0.]]),\n",
       " 'paired_tcrdist_weights': {'cdr1_a_aa_pw': 1,\n",
       "  'cdr2_a_aa_pw': 1,\n",
       "  'cdr3_a_aa_pw': 1,\n",
       "  'pmhc_a_aa_pw': 1,\n",
       "  'cdr1_b_aa_pw': 1,\n",
       "  'cdr2_b_aa_pw': 1,\n",
       "  'cdr3_b_aa_pw': 1,\n",
       "  'pmhc_b_aa_pw': 1}}"
      ]
     },
     "execution_count": 267,
     "metadata": {},
     "output_type": "execute_result"
    }
   ],
   "source": [
    "pb1 = TCRrep(cell_df = test_df, organism = \"mouse\")             # 6\n",
    "pb1.infer_cdrs_from_v_gene(chain = 'alpha', imgt_aligned = True) # <------- # 7\n",
    "pb1.infer_cdrs_from_v_gene(chain = 'beta',  imgt_aligned = True) # <------- # 8\n",
    "pb1.index_cols =['epitope',                                      # 9 \n",
    "                'clone_id',\n",
    "                 'subject',\n",
    "                'cdr3_a_aa',\n",
    "                'cdr1_a_aa',\n",
    "                'cdr2_a_aa',\n",
    "                'pmhc_a_aa',\n",
    "                'cdr3_b_aa',\n",
    "                'cdr1_b_aa',\n",
    "                'cdr2_b_aa',\n",
    "                'pmhc_b_aa',\n",
    "                'v_a_gene',\n",
    "                'v_b_gene']\n",
    "pb1.deduplicate()                                                # 10\n",
    "pb1.compute_pairwise_all(chain = \"alpha\",                        # <------- 11\n",
    "                         metric = 'tcrdist_cdr3',\n",
    "                         compute_specific_region = 'cdr3_a_aa',\n",
    "                         #user_function = tcrdist_metric_align_cdr3s_false,\n",
    "                         processes = 6)\n",
    "pb1.compute_pairwise_all(chain = \"alpha\",                        # 11\n",
    "                         metric = \"tcrdist_cdr1\",\n",
    "                         compute_specific_region = 'cdr1_a_aa',\n",
    "                         processes = 6)\n",
    "pb1.compute_pairwise_all(chain = \"alpha\",                        # 11\n",
    "                         metric = \"tcrdist_cdr1\",\n",
    "                         compute_specific_region = 'cdr2_a_aa',\n",
    "                         processes = 6)\n",
    "pb1.compute_pairwise_all(chain = \"alpha\",                        # 11\n",
    "                         metric = \"tcrdist_cdr1\",\n",
    "                         compute_specific_region = 'pmhc_a_aa',\n",
    "                         processes = 6)\n",
    "\n",
    "pb1.compute_pairwise_all(chain = \"beta\",                         # 12 \n",
    "                         metric = 'tcrdist_cdr3',\n",
    "                         #user_function = tcrdist_metric_align_cdr3s_false,\n",
    "                         compute_specific_region = 'cdr3_b_aa',\n",
    "                         processes = 6)\n",
    "pb1.compute_pairwise_all(chain = \"beta\",                         # 12\n",
    "                         metric = \"tcrdist_cdr1\",\n",
    "                         compute_specific_region = 'cdr1_b_aa',\n",
    "                         processes = 6)\n",
    "pb1.compute_pairwise_all(chain = \"beta\",                         # 12\n",
    "                         metric = \"tcrdist_cdr1\",\n",
    "                         compute_specific_region = 'cdr2_b_aa',\n",
    "                         processes = 6)\n",
    "pb1.compute_pairwise_all(chain = \"beta\",                         # 12\n",
    "                         metric = \"tcrdist_cdr1\",\n",
    "                         compute_specific_region = 'pmhc_b_aa',\n",
    "                         processes = 6)\n",
    "\n",
    "pb1.compute_paired_tcrdist()"
   ]
  },
  {
   "cell_type": "code",
   "execution_count": 269,
   "metadata": {},
   "outputs": [
    {
     "data": {
      "text/plain": [
       "array([[ True, False, False, ..., False, False, False],\n",
       "       [False,  True, False, ..., False, False, False],\n",
       "       [False, False,  True, ..., False, False,  True],\n",
       "       ...,\n",
       "       [False, False, False, ...,  True, False, False],\n",
       "       [False, False, False, ..., False,  True, False],\n",
       "       [False, False,  True, ..., False, False,  True]])"
      ]
     },
     "execution_count": 269,
     "metadata": {},
     "output_type": "execute_result"
    }
   ],
   "source": [
    "pb1.paired_tcrdist.shape == truth_matrix.shape\n",
    "pb1.paired_tcrdist == truth_matrix"
   ]
  },
  {
   "cell_type": "markdown",
   "metadata": {},
   "source": [
    "We need to resort clone_df to make sure it matches the input truth_df order. \n",
    "`truth_matrix` is simply the `pb1.paired_tcrdist` resorted and output as a np array"
   ]
  },
  {
   "cell_type": "code",
   "execution_count": 270,
   "metadata": {},
   "outputs": [
    {
     "data": {
      "text/plain": [
       "array([[ True,  True,  True, ...,  True,  True,  True],\n",
       "       [ True,  True,  True, ...,  True,  True,  True],\n",
       "       [ True,  True,  True, ...,  True,  True,  True],\n",
       "       ...,\n",
       "       [ True,  True,  True, ...,  True,  True,  True],\n",
       "       [ True,  True,  True, ...,  True,  True,  True],\n",
       "       [ True,  True,  True, ...,  True,  True,  True]])"
      ]
     },
     "execution_count": 270,
     "metadata": {},
     "output_type": "execute_result"
    }
   ],
   "source": [
    "test_order = pb1.clone_df.copy()\n",
    "test_order['sort_index'] = test_order.index\n",
    "test_order.index = test_order.clone_id\n",
    "test_order_sorted = test_order.loc[pb1.cell_df.clone_id,]\n",
    "sort_index = test_order_sorted['sort_index']\n",
    "test_matrix = pd.DataFrame(pb1.paired_tcrdist).loc[sort_index, sort_index].values\n",
    "assert(np.all(test_matrix == truth_matrix))\n",
    "test_matrix == truth_matrix"
   ]
  }
 ],
 "metadata": {
  "kernelspec": {
   "display_name": "Python 3",
   "language": "python",
   "name": "python3"
  },
  "language_info": {
   "codemirror_mode": {
    "name": "ipython",
    "version": 3
   },
   "file_extension": ".py",
   "mimetype": "text/x-python",
   "name": "python",
   "nbconvert_exporter": "python",
   "pygments_lexer": "ipython3",
   "version": "3.6.8"
  }
 },
 "nbformat": 4,
 "nbformat_minor": 4
}
